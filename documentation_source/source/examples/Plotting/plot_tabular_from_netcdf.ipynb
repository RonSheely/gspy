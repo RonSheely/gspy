{
  "cells": [
    {
      "cell_type": "code",
      "execution_count": null,
      "metadata": {
        "collapsed": false
      },
      "outputs": [],
      "source": [
        "%matplotlib inline"
      ]
    },
    {
      "cell_type": "markdown",
      "metadata": {},
      "source": [
        "\n# Plot Tabular Examples\nDataset Reference:\nMinsley, B.J., James, S.R., Bedrosian, P.A., Pace, M.D., Hoogenboom, B.E., and Burton, B.L., 2021, Airborne electromagnetic, magnetic, and radiometric survey of the Mississippi Alluvial Plain, November 2019 - March 2020: U.S. Geological Survey data release, https://doi.org/10.5066/P9E44CTQ.\n"
      ]
    },
    {
      "cell_type": "code",
      "execution_count": null,
      "metadata": {
        "collapsed": false
      },
      "outputs": [],
      "source": [
        "import matplotlib.pyplot as plt\nimport matplotlib.gridspec as gridspec\nfrom os.path import join\nimport numpy as np\nfrom gspy import Survey\nimport xarray as xr\nimport pyproj"
      ]
    },
    {
      "cell_type": "markdown",
      "metadata": {},
      "source": [
        "## Read in Data & Plot\n\n"
      ]
    },
    {
      "cell_type": "code",
      "execution_count": null,
      "metadata": {
        "collapsed": false
      },
      "outputs": [],
      "source": [
        "# Path to example files\ndata_path = '..//supplemental//'\n\n# Read in ASEG data file\ndata_file = data_path + 'region//MAP//data//Tempest.nc'\nsurvey = Survey().read_netcdf(data_file)\n\n# Plot a map of the scattered data points\nplt.figure()\ngs=gridspec.GridSpec(1,1)\ngs.update(bottom=0.12, top=0.98, left=0.2, right=0.98)\nsurvey.tabular[0].scatter('GPS_Elevation', ax=plt.subplot(gs[0,0]))"
      ]
    },
    {
      "cell_type": "code",
      "execution_count": null,
      "metadata": {
        "collapsed": false
      },
      "outputs": [],
      "source": [
        "# # Subset by line number\n# newld = survey.tabular[0].subset('Line', 225401)\n# # Plot the single line in map view\n# plt.figure()\n# gs=gridspec.GridSpec(1,1)\n# gs.update(bottom=0.12, top=0.98, left=0.2, right=0.98)\n# newld.scatter('GPS_Elevation', ax=plt.subplot(gs[0,0]))"
      ]
    },
    {
      "cell_type": "markdown",
      "metadata": {},
      "source": [
        "Plotting\n\n"
      ]
    },
    {
      "cell_type": "code",
      "execution_count": null,
      "metadata": {
        "collapsed": false
      },
      "outputs": [],
      "source": [
        "# # Plot data channels\n# fig = plt.figure(figsize=(8,6))\n# gs=gridspec.GridSpec(4,1)\n# gs.update(bottom=0.12, top=0.98, left=0.15, right=0.98, hspace=0.5)\n# ax0=plt.subplot(gs[0,0])\n# newld.plot('X_Powerline', color='b', label='X')\n# newld.plot('Z_Powerline', color='r', label='Z')\n# plt.ylabel('Powerline')\n# plt.legend(loc=2, ncol=2)\n\n# ax1=plt.subplot(gs[1,0])\n# newld.plot('RMI', color='limegreen')\n\n# ax2=plt.subplot(gs[2,0])\n# newld.plot('EMX_HPRG')\n\n# ax3=plt.subplot(gs[3,0])\n# newld.plot('EMZ_HPRG');\n\nplt.show()"
      ]
    }
  ],
  "metadata": {
    "kernelspec": {
      "display_name": "Python 3",
      "language": "python",
      "name": "python3"
    },
    "language_info": {
      "codemirror_mode": {
        "name": "ipython",
        "version": 3
      },
      "file_extension": ".py",
      "mimetype": "text/x-python",
      "name": "python",
      "nbconvert_exporter": "python",
      "pygments_lexer": "ipython3",
      "version": "3.10.8"
    }
  },
  "nbformat": 4,
  "nbformat_minor": 0
}