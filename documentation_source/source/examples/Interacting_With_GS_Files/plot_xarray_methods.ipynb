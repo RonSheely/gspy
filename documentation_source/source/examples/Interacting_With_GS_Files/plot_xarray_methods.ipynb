{
  "cells": [
    {
      "cell_type": "code",
      "execution_count": null,
      "metadata": {
        "collapsed": false
      },
      "outputs": [],
      "source": [
        "%matplotlib inline"
      ]
    },
    {
      "cell_type": "markdown",
      "metadata": {},
      "source": [
        "\n# Basic Class Structure and Xarray Methods\n\nThe three primary classes (Survey, Tabular, and Raster) all contain data and metadata within `Xarray <https://docs.xarray.dev/en/stable/>`_ Datasets. This example demonstrates how to access the xarray object for each class, and methods for exploring the data and metadata.\n\nThis example uses ASEG-formatted raw AEM data from the Tempest system, and a 2-D GeoTiFF of magnetic data.\n\nDataset Reference:\nMinsley, B.J., James, S.R., Bedrosian, P.A., Pace, M.D., Hoogenboom, B.E., and Burton, B.L., 2021, Airborne electromagnetic, magnetic, and radiometric survey of the Mississippi Alluvial Plain, November 2019 - March 2020: U.S. Geological Survey data release, https://doi.org/10.5066/P9E44CTQ.\n"
      ]
    },
    {
      "cell_type": "code",
      "execution_count": null,
      "metadata": {
        "collapsed": false
      },
      "outputs": [],
      "source": [
        "import matplotlib.pyplot as plt\nfrom os.path import join\nfrom gspy import Survey"
      ]
    },
    {
      "cell_type": "markdown",
      "metadata": {},
      "source": [
        "First Create the Survey & Data Objects\n\n"
      ]
    },
    {
      "cell_type": "code",
      "execution_count": null,
      "metadata": {
        "collapsed": false
      },
      "outputs": [],
      "source": [
        "# Initialize the Survey\ndata_path = '..//..//supplemental//region//MAP'\nmetadata = join(data_path, \"data//Tempest_survey_md.json\")\nsurvey = Survey(metadata)\n\n# Add Tabular and Raster Datasets\nt_data = join(data_path, 'data//Tempest.dat')\nt_supp = join(data_path, 'data//Tempest_data_md.json')\nsurvey.add_tabular(type='aseg', data_filename=t_data, metadata_file=t_supp)\nr_supp = join(data_path, 'data//Tempest_raster_md.json')\nsurvey.add_raster(metadata_file = r_supp)"
      ]
    },
    {
      "cell_type": "markdown",
      "metadata": {},
      "source": [
        "## Accessing the Xarray object\n\n"
      ]
    },
    {
      "cell_type": "code",
      "execution_count": null,
      "metadata": {
        "collapsed": false
      },
      "outputs": [],
      "source": [
        "# Survey\n# The Survey's metadata is accessed through the xarray property\nprint(survey.xarray)\n\n# To look just at the attributes\nprint(survey.xarray.attrs)\n\n# Or expand a specific variable\nprint(survey.xarray['survey_information'])\n\n# Tabular & Raster\n# Datasets are attached to the Survey as lists, however if only one Dataset of a given \n# type is present then the xarray object is returned simply by the name of the group\n\n# tabular\nprint(survey.tabular)\n\n# raster\nprint(survey.raster)\n\n# If more than one Dataset is present under the group, then the list begins indexing\n# For example, let's add a second Tabular Dataset\nm_data = join(data_path, 'model//Tempest_model.dat')\nm_supp = join(data_path, 'model//Tempest_model_md.json')\nsurvey.add_tabular(type='aseg', data_filename=m_data, metadata_file=m_supp)\n\n# Now the first dataset is accessed at index 0\nprint(survey.tabular[0])\n\n# and the second is located at index 1\nprint(survey.tabular[1])"
      ]
    },
    {
      "cell_type": "markdown",
      "metadata": {},
      "source": [
        "## Coordinates, Dimensions, and Attributes\n\n"
      ]
    }
  ],
  "metadata": {
    "kernelspec": {
      "display_name": "Python 3",
      "language": "python",
      "name": "python3"
    },
    "language_info": {
      "codemirror_mode": {
        "name": "ipython",
        "version": 3
      },
      "file_extension": ".py",
      "mimetype": "text/x-python",
      "name": "python",
      "nbconvert_exporter": "python",
      "pygments_lexer": "ipython3",
      "version": "3.10.8"
    }
  },
  "nbformat": 4,
  "nbformat_minor": 0
}