{
  "cells": [
    {
      "cell_type": "code",
      "execution_count": null,
      "metadata": {
        "collapsed": false
      },
      "outputs": [],
      "source": [
        "%matplotlib inline"
      ]
    },
    {
      "cell_type": "markdown",
      "metadata": {},
      "source": [
        "\n# ASEG to NetCDF conversion [AEM - Tempest]\n\nThis example demonstrates the workflow for creating a GS file from the `ASEG <https://www.aseg.org.au/sites/default/files/pdf/ASEG-GDF2-REV4.pdf>`_ file format, as well as how to add multiple associated datasets to the Survey (e.g., Tabular and Raster groups). Specifically, this AEM survey contains the following datasets:\n\n1. Raw AEM data, from the Tempest system\n2. Inverted resistivity models\n3. An interpolated map of total magnetic intensity \n\nDataset Reference:\nMinsley, B.J., James, S.R., Bedrosian, P.A., Pace, M.D., Hoogenboom, B.E., and Burton, B.L., 2021, Airborne electromagnetic, magnetic, and radiometric survey of the Mississippi Alluvial Plain, November 2019 - March 2020: U.S. Geological Survey data release, https://doi.org/10.5066/P9E44CTQ.\n"
      ]
    },
    {
      "cell_type": "code",
      "execution_count": null,
      "metadata": {
        "collapsed": false
      },
      "outputs": [],
      "source": [
        "import matplotlib.pyplot as plt\nfrom os.path import join\nfrom gspy import Survey"
      ]
    },
    {
      "cell_type": "markdown",
      "metadata": {},
      "source": [
        "## Convert the ASEG data to NetCDF\n\n"
      ]
    },
    {
      "cell_type": "markdown",
      "metadata": {},
      "source": [
        "Initialize the Survey\n\n"
      ]
    },
    {
      "cell_type": "code",
      "execution_count": null,
      "metadata": {
        "collapsed": false
      },
      "outputs": [],
      "source": [
        "# Path to example files\ndata_path = '..//..//supplemental//region//MAP'\n\n# Survey Metadata file\nmetadata = join(data_path, \"data//Tempest_survey_md.json\")\n\n# Establish survey instance\nsurvey = Survey(metadata)"
      ]
    },
    {
      "cell_type": "markdown",
      "metadata": {},
      "source": [
        "1. Raw Data\nImport raw AEM data from ASEG-format\nDefine input data file and associated metadata file\n\n"
      ]
    },
    {
      "cell_type": "code",
      "execution_count": null,
      "metadata": {
        "collapsed": false
      },
      "outputs": [],
      "source": [
        "d_data = join(data_path, 'data//Tempest.dat')\nd_supp = join(data_path, 'data//Tempest_data_md.json')\n\n# Add the raw AEM data as a tabular dataset\nsurvey.add_tabular(type='aseg', data_filename=d_data, metadata_file=d_supp)"
      ]
    },
    {
      "cell_type": "markdown",
      "metadata": {},
      "source": [
        "2. Inverted Models\nImport inverted AEM models from ASEG-format\nDefine input data file and associated metadata file\n\n"
      ]
    },
    {
      "cell_type": "code",
      "execution_count": null,
      "metadata": {
        "collapsed": false
      },
      "outputs": [],
      "source": [
        "m_data = join(data_path, 'model//Tempest_model.dat')\nm_supp = join(data_path, 'model//Tempest_model_md.json')\n\n# Read model data and format as Tabular class object\nsurvey.add_tabular(type='aseg', data_filename=m_data, metadata_file=m_supp)"
      ]
    },
    {
      "cell_type": "markdown",
      "metadata": {},
      "source": [
        "3. Magnetic Intensity Map\nImport the magnetic data from TIF-format\nDefine input metadata file (which contains the TIF filenames linked with desired variable names)\n\n"
      ]
    },
    {
      "cell_type": "code",
      "execution_count": null,
      "metadata": {
        "collapsed": false
      },
      "outputs": [],
      "source": [
        "r_supp = join(data_path, 'data//Tempest_raster_md.json')\n\n# Read data and format as Raster class object\nsurvey.add_raster(metadata_file = r_supp)\n\n# Save NetCDF file\nd_out = join(data_path, 'data//Tempest.nc')\nsurvey.write_netcdf(d_out)"
      ]
    },
    {
      "cell_type": "markdown",
      "metadata": {},
      "source": [
        "Read back in the NetCDF file\n\n"
      ]
    },
    {
      "cell_type": "code",
      "execution_count": null,
      "metadata": {
        "collapsed": false
      },
      "outputs": [],
      "source": [
        "new_survey = Survey().read_netcdf(d_out)\n\n# Once the survey is read in, we can access variables like a standard xarray dataset.\nprint(new_survey.raster.magnetic_tmi)"
      ]
    },
    {
      "cell_type": "markdown",
      "metadata": {},
      "source": [
        "Plotting\n\n"
      ]
    },
    {
      "cell_type": "code",
      "execution_count": null,
      "metadata": {
        "collapsed": false
      },
      "outputs": [],
      "source": [
        "# Make a scatter plot of a specific tabular variable, using GSPy's plotter \nplt.figure()\nnew_survey.tabular[0].gs_tabular.scatter('Tx_Height', cmap='jet')\nplt.show()\n\n# Make a 2-D map plot of a specific raster variable, using Xarrays's plotter \nplt.figure()\nnew_survey.raster['magnetic_tmi'].plot(vmin=-1000, vmax=1000, cmap='jet')\nplt.show()"
      ]
    }
  ],
  "metadata": {
    "kernelspec": {
      "display_name": "Python 3",
      "language": "python",
      "name": "python3"
    },
    "language_info": {
      "codemirror_mode": {
        "name": "ipython",
        "version": 3
      },
      "file_extension": ".py",
      "mimetype": "text/x-python",
      "name": "python",
      "nbconvert_exporter": "python",
      "pygments_lexer": "ipython3",
      "version": "3.10.8"
    }
  },
  "nbformat": 4,
  "nbformat_minor": 0
}