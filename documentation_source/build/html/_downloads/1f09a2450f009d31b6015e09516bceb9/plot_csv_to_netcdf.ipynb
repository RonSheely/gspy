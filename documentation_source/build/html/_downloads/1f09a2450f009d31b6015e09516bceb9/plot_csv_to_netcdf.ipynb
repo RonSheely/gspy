{
  "cells": [
    {
      "cell_type": "code",
      "execution_count": null,
      "metadata": {
        "collapsed": false
      },
      "outputs": [],
      "source": [
        "%matplotlib inline"
      ]
    },
    {
      "cell_type": "markdown",
      "metadata": {},
      "source": [
        "\n# CSV to NetCDF conversion\nDataset Reference:\nBurton, B.L., Minsley, B.J., Bloss, B.R., and Kress, W.H., 2021, Airborne electromagnetic, magnetic, and radiometric survey of the Mississippi Alluvial Plain, November 2018 - February 2019: U.S. Geological Survey data release, https://doi.org/10.5066/P9XBBBUU.\n"
      ]
    },
    {
      "cell_type": "code",
      "execution_count": null,
      "metadata": {
        "collapsed": false
      },
      "outputs": [],
      "source": [
        "import matplotlib.pyplot as plt\nfrom os.path import join\nfrom gspy import Survey"
      ]
    },
    {
      "cell_type": "markdown",
      "metadata": {},
      "source": [
        "## Convert the CSV data folder to netcdf\n\n"
      ]
    },
    {
      "cell_type": "code",
      "execution_count": null,
      "metadata": {
        "collapsed": false
      },
      "outputs": [],
      "source": [
        "# Path to example files\ndata_path = '..//supplemental//'\n\nmetadata = data_path + \"region//MAP//data//Resolve_survey_information.json\"\n\n# Establish the Survey\nsurvey = Survey(metadata)\n\n# Define input CSV-format data file and associated variable mapping file\nd_data = data_path + 'region//MAP//data//Resolve.csv'\nd_supp = data_path + 'region//MAP//data//Resolve_data_information.json'\n\n# Read data and format as Linedata class object\nsurvey.add_tabular(type='csv', data_filename=d_data, metadata_file=d_supp)\n\n# Define input CSV-format model file and associated variable mapping file\nm_data = data_path + 'region//MAP//model//Resolve_model_0.csv'\nm_supp = data_path + 'region//MAP//model//Resolve_model_information.json'\n\n# Read model data and format as Linemodel class object\nsurvey.add_tabular(type='csv', data_filename=m_data, metadata_file=m_supp)\n\n# Save NetCDF file\nd_out = data_path + 'region//MAP//model//Resolve.nc'\nsurvey.write_netcdf(d_out)"
      ]
    },
    {
      "cell_type": "markdown",
      "metadata": {},
      "source": [
        "Read in the netcdf files\n\n"
      ]
    },
    {
      "cell_type": "code",
      "execution_count": null,
      "metadata": {
        "collapsed": false
      },
      "outputs": [],
      "source": [
        "new_survey = Survey().read_netcdf(d_out)"
      ]
    },
    {
      "cell_type": "markdown",
      "metadata": {},
      "source": [
        "Plotting\n\n"
      ]
    },
    {
      "cell_type": "code",
      "execution_count": null,
      "metadata": {
        "collapsed": false
      },
      "outputs": [],
      "source": [
        "plt.figure()\nnew_survey.tabular[0].scatter('DTM', vmin=30, vmax=50)\nplt.xlim([500000, 540000])\nplt.ylim([1175000, 1210000])\n\nplt.figure()\nnew_survey.tabular[1].scatter('DEM')\nplt.show()"
      ]
    }
  ],
  "metadata": {
    "kernelspec": {
      "display_name": "Python 3",
      "language": "python",
      "name": "python3"
    },
    "language_info": {
      "codemirror_mode": {
        "name": "ipython",
        "version": 3
      },
      "file_extension": ".py",
      "mimetype": "text/x-python",
      "name": "python",
      "nbconvert_exporter": "python",
      "pygments_lexer": "ipython3",
      "version": "3.8.12"
    }
  },
  "nbformat": 4,
  "nbformat_minor": 0
}