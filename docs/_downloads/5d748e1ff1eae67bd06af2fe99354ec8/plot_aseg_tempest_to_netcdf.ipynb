{
  "cells": [
    {
      "cell_type": "markdown",
      "metadata": {},
      "source": [
        "\n# ASEG to NetCDF\n\nThis example demonstrates the workflow for creating a GS file from the [ASEG](https://www.aseg.org.au/sites/default/files/pdf/ASEG-GDF2-REV4.pdf) file format, as well as how to add multiple associated datasets to the Survey (e.g., Tabular and Raster groups). Specifically, this AEM survey contains the following datasets:\n\n1. Raw AEM data, from the Tempest system\n2. Inverted resistivity models\n3. An interpolated map of total magnetic intensity\n\nDataset Reference:\nMinsley, B.J., James, S.R., Bedrosian, P.A., Pace, M.D., Hoogenboom, B.E., and Burton, B.L., 2021, Airborne electromagnetic, magnetic, and radiometric survey of the Mississippi Alluvial Plain, November 2019 - March 2020: U.S. Geological Survey data release, https://doi.org/10.5066/P9E44CTQ.\n"
      ]
    },
    {
      "cell_type": "code",
      "execution_count": null,
      "metadata": {
        "collapsed": false
      },
      "outputs": [],
      "source": [
        "import matplotlib.pyplot as plt\nfrom os.path import join\nimport gspy"
      ]
    },
    {
      "cell_type": "markdown",
      "metadata": {},
      "source": [
        "## Convert the ASEG data to NetCDF\n\n"
      ]
    },
    {
      "cell_type": "markdown",
      "metadata": {},
      "source": [
        "Initialize the Survey\n\n"
      ]
    },
    {
      "cell_type": "code",
      "execution_count": null,
      "metadata": {
        "collapsed": false
      },
      "outputs": [],
      "source": [
        "# Path to example files\ndata_path = '..//..//..//..//example_material//example_2'\n\n# Survey Metadata file\nmetadata = join(data_path, \"data//Tempest_survey_md.yml\")\n\n# Establish survey instance\nsurvey = gspy.Survey.from_dict(metadata)"
      ]
    },
    {
      "cell_type": "markdown",
      "metadata": {},
      "source": [
        "1. Raw Data -\n\n"
      ]
    },
    {
      "cell_type": "code",
      "execution_count": null,
      "metadata": {
        "collapsed": false
      },
      "outputs": [],
      "source": [
        "data_container = survey.gs.add_container('data', **dict(content = \"raw and processed data\"))\n\n# Import raw AEM data from ASEG-format.\n# Define input data file and associated metadata file\nd_data = join(data_path, 'data//Tempest.dat')\nd_supp = join(data_path, 'data//Tempest_data_md.yml')\n\n# Add the raw AEM data as a tabular dataset\nrd = data_container.gs.add(key='raw_data', data_filename=d_data, metadata_file=d_supp)"
      ]
    },
    {
      "cell_type": "markdown",
      "metadata": {},
      "source": [
        "2. Inverted Models\n\n"
      ]
    },
    {
      "cell_type": "code",
      "execution_count": null,
      "metadata": {
        "collapsed": false
      },
      "outputs": [],
      "source": [
        "model_container = survey.gs.add_container('models', **dict(content = \"inverted models\"))\n\n# Import inverted AEM models from ASEG-format.\n# Define input data file and associated metadata file\nm_data = join(data_path, 'model//Tempest_model.dat')\nm_supp = join(data_path, 'model//Tempest_model_md.yml')\n\n# Read model data and format as Tabular class object\nmodel_container.gs.add(key='inverted_models', data_filename=m_data, metadata_file=m_supp)"
      ]
    },
    {
      "cell_type": "markdown",
      "metadata": {},
      "source": [
        "3. Magnetic Intensity Map\n\n"
      ]
    },
    {
      "cell_type": "code",
      "execution_count": null,
      "metadata": {
        "collapsed": false
      },
      "outputs": [],
      "source": [
        "data_derived = data_container.gs.add_container('derived_maps', **dict(content = \"derived maps\"))\n\n# Import the magnetic data from TIF-format.\n# Define input metadata file (which contains the TIF filenames linked with desired variable names)\nr_supp = join(data_path, 'data//Tempest_raster_md.yml')\n\n# Read data and format as Raster class object\ndata_derived.gs.add(key='maps', metadata_file = r_supp)\n\n# Save NetCDF file\nd_out = join(data_path, 'data//Tempest.nc')\nsurvey.gs.to_netcdf(d_out)"
      ]
    },
    {
      "cell_type": "markdown",
      "metadata": {},
      "source": [
        "Read back in the NetCDF file\n\n"
      ]
    },
    {
      "cell_type": "code",
      "execution_count": null,
      "metadata": {
        "collapsed": false
      },
      "outputs": [],
      "source": [
        "new_survey = gspy.open_datatree(d_out)['survey']\n\n# Once the survey is read in, we can access variables like a standard xarray dataset.\nprint(new_survey['data/derived_maps/maps'].magnetic_tmi)\nprint(new_survey['data/derived_maps/maps']['magnetic_tmi'])"
      ]
    },
    {
      "cell_type": "markdown",
      "metadata": {},
      "source": [
        "Plotting\n\n"
      ]
    },
    {
      "cell_type": "code",
      "execution_count": null,
      "metadata": {
        "collapsed": false
      },
      "outputs": [],
      "source": [
        "# Make a scatter plot of a specific tabular variable, using GSPy's plotter\nplt.figure()\nnew_survey['data']['raw_data'].gs.scatter(x='x', hue='tx_height', cmap='jet')\n\n# Make a 2-D map plot of a specific raster variable, using Xarrays's plotter\nplt.figure()\nnew_survey['data/derived_maps/maps']['magnetic_tmi'].plot(cmap='jet', robust=True)\nplt.show()"
      ]
    }
  ],
  "metadata": {
    "kernelspec": {
      "display_name": "Python 3",
      "language": "python",
      "name": "python3"
    },
    "language_info": {
      "codemirror_mode": {
        "name": "ipython",
        "version": 3
      },
      "file_extension": ".py",
      "mimetype": "text/x-python",
      "name": "python",
      "nbconvert_exporter": "python",
      "pygments_lexer": "ipython3",
      "version": "3.12.6"
    }
  },
  "nbformat": 4,
  "nbformat_minor": 0
}