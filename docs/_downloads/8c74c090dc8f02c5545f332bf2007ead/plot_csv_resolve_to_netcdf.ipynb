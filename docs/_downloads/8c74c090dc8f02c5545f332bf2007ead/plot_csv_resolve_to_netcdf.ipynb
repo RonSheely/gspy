{
  "cells": [
    {
      "cell_type": "markdown",
      "metadata": {},
      "source": [
        "\n# CSV to NetCDF\n\nThis example demonstrates how to convert comma-separated values (CSV) data to the GS NetCDF format. Specifically this example includes:\n\n1. Raw AEM data, from the Resolve system\n2. Inverted resistivity models\n\nDataset Reference:\nBurton, B.L., Minsley, B.J., Bloss, B.R., and Kress, W.H., 2021, Airborne electromagnetic, magnetic, and radiometric survey of the Mississippi Alluvial Plain, November 2018 - February 2019: U.S. Geological Survey data release, https://doi.org/10.5066/P9XBBBUU.\n"
      ]
    },
    {
      "cell_type": "code",
      "execution_count": null,
      "metadata": {
        "collapsed": false
      },
      "outputs": [],
      "source": [
        "import matplotlib.pyplot as plt\nfrom os.path import join\nfrom gspy import Survey"
      ]
    },
    {
      "cell_type": "markdown",
      "metadata": {},
      "source": [
        "## Convert the resolve csv data to NetCDF\n\n"
      ]
    },
    {
      "cell_type": "markdown",
      "metadata": {},
      "source": [
        "Initialize the Survey\n\n"
      ]
    },
    {
      "cell_type": "code",
      "execution_count": null,
      "metadata": {
        "collapsed": false
      },
      "outputs": [],
      "source": [
        "# Path to example files\ndata_path = '..//..//supplemental//region//MAP'\n\n# Survey metadata file\nmetadata = join(data_path, \"data//Resolve_survey_md.json\")\n\n# Establish the Survey\nsurvey = Survey(metadata)"
      ]
    },
    {
      "cell_type": "markdown",
      "metadata": {},
      "source": [
        "Import raw AEM data from CSV-format.\nDefine input data file and associated metadata file\n\n"
      ]
    },
    {
      "cell_type": "code",
      "execution_count": null,
      "metadata": {
        "collapsed": false
      },
      "outputs": [],
      "source": [
        "d_data = join(data_path, 'data//Resolve.csv')\nd_supp = join(data_path, 'data//Resolve_data_md.json')\n\n# Add the raw AEM data as a tabular dataset\nsurvey.add_tabular(type='csv', data_filename=d_data, metadata_file=d_supp)"
      ]
    },
    {
      "cell_type": "markdown",
      "metadata": {},
      "source": [
        "Import inverted AEM models from CSV-format.\nDefine input model file and associated metadata file\n\n"
      ]
    },
    {
      "cell_type": "code",
      "execution_count": null,
      "metadata": {
        "collapsed": false
      },
      "outputs": [],
      "source": [
        "m_data = join(data_path, 'model//Resolve_model.csv')\nm_supp = join(data_path, 'model//Resolve_model_md.json')\n\n# Add the inverted AEM models as a tabular dataset\nsurvey.add_tabular(type='csv', data_filename=m_data, metadata_file=m_supp)"
      ]
    },
    {
      "cell_type": "markdown",
      "metadata": {},
      "source": [
        "Save to NetCDF file\n\n"
      ]
    },
    {
      "cell_type": "code",
      "execution_count": null,
      "metadata": {
        "collapsed": false
      },
      "outputs": [],
      "source": [
        "d_out = join(data_path, 'model//Resolve.nc')\nsurvey.write_netcdf(d_out)"
      ]
    },
    {
      "cell_type": "markdown",
      "metadata": {},
      "source": [
        "Reading back in the GS NetCDF file\n\n"
      ]
    },
    {
      "cell_type": "code",
      "execution_count": null,
      "metadata": {
        "collapsed": false
      },
      "outputs": [],
      "source": [
        "new_survey = Survey.open_netcdf(d_out)\n\n# Check the Survey information\nprint(new_survey.xarray)"
      ]
    },
    {
      "cell_type": "markdown",
      "metadata": {},
      "source": [
        "Plotting\n\n"
      ]
    },
    {
      "cell_type": "code",
      "execution_count": null,
      "metadata": {
        "collapsed": false
      },
      "outputs": [],
      "source": [
        "# Make a scatter plot of a specific data variable, using GSPy's plotter\n# plt.figure()\n# new_survey.tabular[0].gs_tabular.scatter(hue='DTM', vmin=30, vmax=50)\n\n\n# Subsetting by line number, and plotting by distance along that line\n# new_survey.tabular[0].gs_tabular.subset('line', 10010)\ntmp = new_survey.tabular[0].where(new_survey.tabular[0]['line']==10010)\nplt.figure()\n# plt.subplot(121)\n# tmp.gs_tabular.plot(hue='DTM')\n# plt.subplot(122)\n# tmp.gs_tabular.scatter(x='x', y='DTM')\ntmp.gs_tabular.scatter(y='DTM')\n\n#IF YOU SPECIFY HUE ITS A 2D COLOUR Plot\n#OTHERWISE ITS JUST A PLOT (LINE POINTS ETC)\n\n# Make a scatter plot of a specific model variable, using GSPy's plotter\n# plt.figure()\n# new_survey.tabular[1].gs_tabular.scatter(hue='DOI_STANDARD')\nplt.show()"
      ]
    }
  ],
  "metadata": {
    "kernelspec": {
      "display_name": "Python 3",
      "language": "python",
      "name": "python3"
    },
    "language_info": {
      "codemirror_mode": {
        "name": "ipython",
        "version": 3
      },
      "file_extension": ".py",
      "mimetype": "text/x-python",
      "name": "python",
      "nbconvert_exporter": "python",
      "pygments_lexer": "ipython3",
      "version": "3.12.5"
    }
  },
  "nbformat": 4,
  "nbformat_minor": 0
}