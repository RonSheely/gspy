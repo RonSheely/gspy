{
  "cells": [
    {
      "cell_type": "markdown",
      "metadata": {},
      "source": [
        "\n# Multi-dataset Survey\n\nThis example demonstrates the typical workflow for creating a GS file for an AEM survey in its entirety, i.e., the NetCDF file contains all related datasets together, e.g., raw data, processed data, inverted models, and derivative products. Specifically, this survey contains:\n\n1. Minimally processed (raw) AEM data and raw/processed magnetic data provided by SkyTEM\n2. Fully processed AEM data used as input to inversion\n3. Laterally constrained inverted resistivity models\n4. Point-data estimates of bedrock depth derived from the AEM models\n5. Interpolated magnetic and bedrock depth grids\n\nNote:\nTo make the size of this example more managable, some of the input datasets have been downsampled relative to the source files in the data release referenced below.\n\nDataset Reference:\nMinsley, B.J, Bloss, B.R., Hart, D.J., Fitzpatrick, W., Muldoon, M.A., Stewart, E.K., Hunt, R.J., James, S.R., Foks, N.L., and Komiskey, M.J., 2022, Airborne electromagnetic and magnetic survey data, northeast Wisconsin (ver. 1.1, June 2022): U.S. Geological Survey data release, https://doi.org/10.5066/P93SY9LI.\n"
      ]
    },
    {
      "cell_type": "code",
      "execution_count": null,
      "metadata": {
        "collapsed": false
      },
      "outputs": [],
      "source": [
        "import matplotlib.pyplot as plt\nfrom os.path import join\nimport numpy as np\nimport gspy"
      ]
    },
    {
      "cell_type": "markdown",
      "metadata": {},
      "source": [
        "## Convert the Skytem csv data to NetCDF\n\n"
      ]
    },
    {
      "cell_type": "markdown",
      "metadata": {},
      "source": [
        "Initialize the Survey\n\n"
      ]
    },
    {
      "cell_type": "code",
      "execution_count": null,
      "metadata": {
        "collapsed": false
      },
      "outputs": [],
      "source": [
        "# Path to example files\ndata_path = '..//..//..//..//example_material//example_3'\n\n# Survey metadata file\nmetadata = join(data_path, \"data//LoupeEM_survey_md.yml\")\n\n# Establish the Survey\nsurvey = gspy.Survey.from_dict(metadata)\n\ndata_container = survey.gs.add_container('data')\n\ndata = join(data_path, 'data//Kankakee.dat')\nmetadata = join(data_path, 'data//Loupe_data_metadata.yml')\ndata_container.gs.add(key='raw_data', data_filename=data, metadata_file=metadata)"
      ]
    },
    {
      "cell_type": "markdown",
      "metadata": {},
      "source": [
        "Save to NetCDF file\n\n"
      ]
    },
    {
      "cell_type": "code",
      "execution_count": null,
      "metadata": {
        "collapsed": false
      },
      "outputs": [],
      "source": [
        "d_out = join(data_path, 'data//Loupe.nc')\nsurvey.gs.to_netcdf(d_out)"
      ]
    },
    {
      "cell_type": "markdown",
      "metadata": {},
      "source": [
        "Reading back in\n\n"
      ]
    },
    {
      "cell_type": "code",
      "execution_count": null,
      "metadata": {
        "collapsed": false
      },
      "outputs": [],
      "source": [
        "new_survey = gspy.open_datatree(d_out)['survey']"
      ]
    },
    {
      "cell_type": "markdown",
      "metadata": {},
      "source": [
        "Plotting\n\n"
      ]
    },
    {
      "cell_type": "code",
      "execution_count": null,
      "metadata": {
        "collapsed": false
      },
      "outputs": [],
      "source": [
        "plt.figure()\nnew_survey['data/raw_data']['height'].plot(label='height')\nnew_survey['data/raw_data']['tx_height'].plot(label='tx_height')\nnew_survey['data/raw_data']['rx_height'].plot(label='rx_height')\nplt.tight_layout()\nplt.legend()\n\nplt.show()"
      ]
    }
  ],
  "metadata": {
    "kernelspec": {
      "display_name": "Python 3",
      "language": "python",
      "name": "python3"
    },
    "language_info": {
      "codemirror_mode": {
        "name": "ipython",
        "version": 3
      },
      "file_extension": ".py",
      "mimetype": "text/x-python",
      "name": "python",
      "nbconvert_exporter": "python",
      "pygments_lexer": "ipython3",
      "version": "3.12.6"
    }
  },
  "nbformat": 4,
  "nbformat_minor": 0
}