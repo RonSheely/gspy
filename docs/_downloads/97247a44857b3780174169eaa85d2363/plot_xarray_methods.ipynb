{
  "cells": [
    {
      "cell_type": "markdown",
      "metadata": {},
      "source": [
        "\n# Basic Class Structure\n\nThe three primary classes (Survey, Tabular, and Raster) all contain data and metadata within [Xarray](https://docs.xarray.dev/en/stable/) Datasets. This example demonstrates how to access the xarray object for each class, and methods for exploring the data and metadata.\n\nThis example uses ASEG-formatted raw AEM data from the Tempest system, and a 2-D GeoTiFF of magnetic data.\n\nDataset Reference:\nMinsley, B.J., James, S.R., Bedrosian, P.A., Pace, M.D., Hoogenboom, B.E., and Burton, B.L., 2021, Airborne electromagnetic, magnetic, and radiometric survey of the Mississippi Alluvial Plain, November 2019 - March 2020: U.S. Geological Survey data release, https://doi.org/10.5066/P9E44CTQ.\n"
      ]
    },
    {
      "cell_type": "code",
      "execution_count": null,
      "metadata": {
        "collapsed": false
      },
      "outputs": [],
      "source": [
        "import matplotlib.pyplot as plt\nfrom os.path import join\nimport gspy\nfrom gspy import Survey\nfrom pprint import pprint"
      ]
    },
    {
      "cell_type": "markdown",
      "metadata": {},
      "source": [
        "First open the netcdf GS standard survey file.\n\n"
      ]
    },
    {
      "cell_type": "code",
      "execution_count": null,
      "metadata": {
        "collapsed": false
      },
      "outputs": [],
      "source": [
        "survey = gspy.open_datatree(\"../../../../example_material/example_2/data/Tempest.nc\")['survey']"
      ]
    },
    {
      "cell_type": "markdown",
      "metadata": {},
      "source": [
        "## Accessing the Xarray object\n\n"
      ]
    },
    {
      "cell_type": "markdown",
      "metadata": {},
      "source": [
        "Survey\n\n"
      ]
    },
    {
      "cell_type": "code",
      "execution_count": null,
      "metadata": {
        "collapsed": false
      },
      "outputs": [],
      "source": [
        "# The Survey's metadata is accessed through the xarray property\nprint('Survey:')\nprint(survey)"
      ]
    },
    {
      "cell_type": "markdown",
      "metadata": {},
      "source": [
        "To look just at the attributes\n\n"
      ]
    },
    {
      "cell_type": "code",
      "execution_count": null,
      "metadata": {
        "collapsed": false
      },
      "outputs": [],
      "source": [
        "print('Survey Attributes:\\n')\npprint(survey.attrs)"
      ]
    },
    {
      "cell_type": "markdown",
      "metadata": {},
      "source": [
        "Or expand a specific variable\n\n"
      ]
    },
    {
      "cell_type": "code",
      "execution_count": null,
      "metadata": {
        "collapsed": false
      },
      "outputs": [],
      "source": [
        "print('Survey Information:\\n')\nprint(survey['survey_information'])"
      ]
    },
    {
      "cell_type": "markdown",
      "metadata": {},
      "source": [
        "Datasets\nGet the list of datasets attached to the survey\n\n"
      ]
    },
    {
      "cell_type": "code",
      "execution_count": null,
      "metadata": {
        "collapsed": false
      },
      "outputs": [],
      "source": [
        "print(survey.items)"
      ]
    },
    {
      "cell_type": "markdown",
      "metadata": {},
      "source": [
        "Datasets are attached to the Survey regardless of their format whether unstructured tabular data or\nimage-type raster data\n\n"
      ]
    },
    {
      "cell_type": "code",
      "execution_count": null,
      "metadata": {
        "collapsed": false
      },
      "outputs": [],
      "source": [
        "# Tabular\nprint('Tabular:\\n')\nprint(survey['data'])\n\n# Raster\nprint('\\nRaster:\\n')\nprint(survey['data/derived_maps/maps'])"
      ]
    },
    {
      "cell_type": "markdown",
      "metadata": {},
      "source": [
        "and the second is located at index 1\n\n"
      ]
    },
    {
      "cell_type": "code",
      "execution_count": null,
      "metadata": {
        "collapsed": false
      },
      "outputs": [],
      "source": [
        "print('Second Tabular Group:\\n')\nprint(survey['models/inverted_models'])"
      ]
    },
    {
      "cell_type": "markdown",
      "metadata": {},
      "source": [
        "## Coordinates, Dimensions, and Attributes\n\n"
      ]
    },
    {
      "cell_type": "markdown",
      "metadata": {},
      "source": [
        "All data variables must have dimensions, coordinate, and attributes\n\n"
      ]
    },
    {
      "cell_type": "markdown",
      "metadata": {},
      "source": [
        "### Dimensions\n\n"
      ]
    },
    {
      "cell_type": "markdown",
      "metadata": {},
      "source": [
        "Tabular data are typicaly 1-D or 2-D variables with the primary dimension being ``index``, which\ncorresponds to the rows of the input text file representing individual measurements.\n\n"
      ]
    },
    {
      "cell_type": "code",
      "execution_count": null,
      "metadata": {
        "collapsed": false
      },
      "outputs": [],
      "source": [
        "print(survey['models/inverted_models']['index'])"
      ]
    },
    {
      "cell_type": "markdown",
      "metadata": {},
      "source": [
        "If a dimension is not discrete, meaning it represents ranges (such as depth layers),\nthen the bounds on each dimension value also need to be defined, and are linked\nto the dimension through the \"bounds\" attribute.\n\n"
      ]
    },
    {
      "cell_type": "code",
      "execution_count": null,
      "metadata": {
        "collapsed": false
      },
      "outputs": [],
      "source": [
        "print('example non-discrete dimension:\\n')\nprint(survey['models/inverted_models']['gate_times'])\nprint('\\n\\ncorresponding bounds on non-discrete dimension:\\n')\nprint(survey['models/inverted_models']['gate_times_bnds'])"
      ]
    },
    {
      "cell_type": "markdown",
      "metadata": {},
      "source": [
        "### Coordinates\n\n"
      ]
    },
    {
      "cell_type": "markdown",
      "metadata": {},
      "source": [
        "Coordinates define the spatial and temporal positioning of the data (X Y Z T).\nAdditionally, all dimensions are by default classified as a coordinate.\nThis means a dataset can have both dimensional and non-dimensional coordinates.\nDimensional coordinates are noted with a * (or bold text) in printed output of the xarray,\nsuch as ``index``, ``gate_times``, ``nv`` in this example:\n\n"
      ]
    },
    {
      "cell_type": "code",
      "execution_count": null,
      "metadata": {
        "collapsed": false
      },
      "outputs": [],
      "source": [
        "print(survey['data'].dataset.coords)"
      ]
    },
    {
      "cell_type": "markdown",
      "metadata": {},
      "source": [
        "Tabular Coordinates\n\n"
      ]
    },
    {
      "cell_type": "markdown",
      "metadata": {},
      "source": [
        "In Tabular data, coordinates are typically non-dimensional, since the primary dataset\ndimension is ``index``. By default, we define the spatial coordinates, ``x`` and ``y``,\nbased on the longitude and latitude (or easting/northing) data variables. If relevant,\n``z`` and ``t`` coordinate variables can also be defined, representing the vertical and\ntemporal coordinates of the data points.\n\n"
      ]
    },
    {
      "cell_type": "markdown",
      "metadata": {},
      "source": [
        "Note: All coordinates must match the coordinate reference system defined in the Survey.\n\n"
      ]
    },
    {
      "cell_type": "markdown",
      "metadata": {},
      "source": [
        "Raster Coordinates\n\n"
      ]
    },
    {
      "cell_type": "markdown",
      "metadata": {},
      "source": [
        "Raster data are gridded, typically representing maps or multi-dimensional models.\nTherefore, Raster data almost always have dimensional coordinates, i.e., the\ndata dimensions correspond directly to either spatial or temporal coordinates (``x``, ``y``, ``z``, ``t``).\n\n"
      ]
    },
    {
      "cell_type": "code",
      "execution_count": null,
      "metadata": {
        "collapsed": false
      },
      "outputs": [],
      "source": [
        "print(survey['data/derived_maps/maps'].coords)"
      ]
    },
    {
      "cell_type": "markdown",
      "metadata": {},
      "source": [
        "The Spatial Reference Coordinate\n\n"
      ]
    },
    {
      "cell_type": "markdown",
      "metadata": {},
      "source": [
        "the ``spatial_ref`` coordinate variable is a non-dimensional coordinate that\ncontains information on the coordinate reference system. For more information,\nsee `Coordinate Reference Systems <coordinate reference systems>`.\n\n"
      ]
    },
    {
      "cell_type": "markdown",
      "metadata": {},
      "source": [
        "### Attributes\n\n"
      ]
    },
    {
      "cell_type": "markdown",
      "metadata": {},
      "source": [
        "Both datasets and data variables have attributes (metadata fields). Certain\nattributes are required, see our documentation on `the GS standard <GS Convention Requirements>`.\nfor more details.\n\n"
      ]
    },
    {
      "cell_type": "markdown",
      "metadata": {},
      "source": [
        "Dataset attributes\n\n"
      ]
    },
    {
      "cell_type": "markdown",
      "metadata": {},
      "source": [
        "Dataset attributes provide users a way to document and describe supplementary\ninformation about a dataset group as a whole, such as model inversion parameters\nor other processing descriptions. At a minimum, a ``content`` attribute should\ncontain a brief summary of the contents of the dataset.\n\n"
      ]
    },
    {
      "cell_type": "code",
      "execution_count": null,
      "metadata": {
        "collapsed": false
      },
      "outputs": [],
      "source": [
        "pprint(survey['models/inverted_models'].attrs)"
      ]
    },
    {
      "cell_type": "markdown",
      "metadata": {},
      "source": [
        "Variable attributes\n\n"
      ]
    },
    {
      "cell_type": "markdown",
      "metadata": {},
      "source": [
        "Each data variable must contain attributes detailing the metadata\nof that individual variable. These follow the [Climate and Forecast (CF) metadata conventions](http://cfconventions.org/).\n\n"
      ]
    },
    {
      "cell_type": "code",
      "execution_count": null,
      "metadata": {
        "collapsed": false
      },
      "outputs": [],
      "source": [
        "pprint(survey['models/inverted_models']['conductivity'].attrs)"
      ]
    }
  ],
  "metadata": {
    "kernelspec": {
      "display_name": "Python 3",
      "language": "python",
      "name": "python3"
    },
    "language_info": {
      "codemirror_mode": {
        "name": "ipython",
        "version": 3
      },
      "file_extension": ".py",
      "mimetype": "text/x-python",
      "name": "python",
      "nbconvert_exporter": "python",
      "pygments_lexer": "ipython3",
      "version": "3.12.6"
    }
  },
  "nbformat": 4,
  "nbformat_minor": 0
}