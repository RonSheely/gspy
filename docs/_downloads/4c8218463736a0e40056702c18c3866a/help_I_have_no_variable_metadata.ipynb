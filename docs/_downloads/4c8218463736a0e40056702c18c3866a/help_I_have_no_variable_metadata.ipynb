{
  "cells": [
    {
      "cell_type": "markdown",
      "metadata": {},
      "source": [
        "\n# Help! I have no metadata\n\nThis example shows how GSPy can help when you have a large data file and need to do the\ntedious task of filling out the variable metadata.\n\nBy doing a first-pass through GSPy with a data json file that is *missing* the ``variable_metadata`` dictionary,\nthe code will break, but will generate a template file containing placeholder metadata dictionaries for all\nvariables from the data file (in this case the column headers of the CSV data file). The user can then fill in\nthis template and then add it to the data json file.\n\nThis image shows a snippet of what the output template json file contains. Each variable is given a dictionary\nof attributes with the default values of \"not_defined\" which the user can then go through and update.\n"
      ]
    },
    {
      "cell_type": "code",
      "execution_count": null,
      "metadata": {
        "collapsed": false
      },
      "outputs": [],
      "source": [
        "from os.path import join\nfrom gspy import Survey, Dataset\nimport matplotlib.pyplot as plt\nfrom matplotlib import image as img"
      ]
    },
    {
      "cell_type": "markdown",
      "metadata": {},
      "source": [
        "## Generate the Variable Metadata Template for My Dataset\n\n"
      ]
    },
    {
      "cell_type": "markdown",
      "metadata": {},
      "source": [
        "Zero existing metadata\nInitialize the Survey\n\n"
      ]
    },
    {
      "cell_type": "code",
      "execution_count": null,
      "metadata": {
        "collapsed": false
      },
      "outputs": [],
      "source": [
        "template = Survey.metadata_template()\ntemplate.dump(\"template_survey_empty.yml\")"
      ]
    },
    {
      "cell_type": "markdown",
      "metadata": {},
      "source": [
        "Prefilled existing metadata file\nPath to example files\n\n"
      ]
    },
    {
      "cell_type": "code",
      "execution_count": null,
      "metadata": {
        "collapsed": false
      },
      "outputs": [],
      "source": [
        "data_path = '..//..//..//..//example_material//example_2'\n\n# Define the Survey metadata file\nmetadata = join(data_path, \"data//Resolve_survey_md.yml\")\n\n# Initialize the Survey\ntemplate = Survey.metadata_template(metadata)\ntemplate.dump(\"template_md_survey.yml\")"
      ]
    },
    {
      "cell_type": "markdown",
      "metadata": {},
      "source": [
        "Define input data file (CSV format) and the\nassociated metadata file (without the variable_metadata dictionary)\n\n"
      ]
    },
    {
      "cell_type": "code",
      "execution_count": null,
      "metadata": {
        "collapsed": false
      },
      "outputs": [],
      "source": [
        "data = join(data_path, 'data//Resolve.csv')\nmetadata = join(data_path, 'data//Resolve_data_md_without_variables.yml')\n\ntemplate = Dataset.metadata_template(data)\ntemplate.dump(\"template_md_resolve_empty.yml\")\n\ntemplate = Dataset.metadata_template(data, metadata)\ntemplate.dump(\"template_md_resolve.yml\")"
      ]
    },
    {
      "cell_type": "code",
      "execution_count": null,
      "metadata": {
        "collapsed": false
      },
      "outputs": [],
      "source": [
        "data_path = '..//..//..//..//example_material//example_1'\n\ndata = join(data_path, 'data//WI_SkyTEM_2021_ContractorData.csv')\nmetadata = join(data_path, 'data//WI_SkyTEM_raw_data_md.yml')\ntemplate = Dataset.metadata_template(data, metadata)\ntemplate.dump(\"template_md_skytem.yml\")"
      ]
    },
    {
      "cell_type": "markdown",
      "metadata": {},
      "source": [
        "Loupe Data\n\n"
      ]
    },
    {
      "cell_type": "code",
      "execution_count": null,
      "metadata": {
        "collapsed": false
      },
      "outputs": [],
      "source": [
        "data_path = '..//..//..//..//example_material//example_3'\n\ndata = join(data_path, 'data//Kankakee.dat')\nmetadata = join(data_path, 'data//loupe_data_metadata.yml')\n\ntemplate = Dataset.metadata_template(data_filename=data, metadata_file=metadata)\ntemplate.dump(\"template_md_loupe.yml\")"
      ]
    }
  ],
  "metadata": {
    "kernelspec": {
      "display_name": "Python 3",
      "language": "python",
      "name": "python3"
    },
    "language_info": {
      "codemirror_mode": {
        "name": "ipython",
        "version": 3
      },
      "file_extension": ".py",
      "mimetype": "text/x-python",
      "name": "python",
      "nbconvert_exporter": "python",
      "pygments_lexer": "ipython3",
      "version": "3.12.6"
    }
  },
  "nbformat": 4,
  "nbformat_minor": 0
}