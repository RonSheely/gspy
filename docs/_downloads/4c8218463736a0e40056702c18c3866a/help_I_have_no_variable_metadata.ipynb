{
  "cells": [
    {
      "cell_type": "code",
      "execution_count": null,
      "metadata": {
        "collapsed": false
      },
      "outputs": [],
      "source": [
        "%matplotlib inline"
      ]
    },
    {
      "cell_type": "markdown",
      "metadata": {},
      "source": [
        "\n# Help! I have no variable metadata\n\nThis example shows how GSPy can help when you have a large data file and need to do the tedious task of filling out the variable metadata.\n\nBy doing a first-pass through GSPy with a data json file that is *missing* the ``variable_metadata`` dictionary, the code will break, but will generate a template file containing placeholder metadata dictionaries for all variables from the data file (in this case the column headers of the CSV data file). The user can then fill in this template and then add it to the data json file.\n\n<img src=\"file://..//..//img//variable_metadata_template_snippet.png\" scale=\"50 %\" align=\"center\">\n\nThis image shows a snippet of what the output template json file contains. Each variable is given a dictionary of attributes with the default values of \"not_defined\" which the user can then go through and update.\n"
      ]
    },
    {
      "cell_type": "code",
      "execution_count": null,
      "metadata": {
        "collapsed": false
      },
      "outputs": [],
      "source": [
        "from os.path import join\nfrom gspy import Survey"
      ]
    },
    {
      "cell_type": "markdown",
      "metadata": {},
      "source": [
        "## Generate the Variable Metadata Template for My Dataset\n\n"
      ]
    },
    {
      "cell_type": "code",
      "execution_count": null,
      "metadata": {
        "collapsed": false
      },
      "outputs": [],
      "source": [
        "# Path to example files\ndata_path = '..//..//supplemental'\n\n# Define the Survey metadata file\nmetadata = join(data_path, \"region//MAP//data//Resolve_survey_md.json\")\n\n# Initialize the Survey\nsurvey = Survey(metadata)"
      ]
    },
    {
      "cell_type": "code",
      "execution_count": null,
      "metadata": {
        "collapsed": false
      },
      "outputs": [],
      "source": [
        "# Define input data file (CSV format) and the\n# associated metadata file (without the variable_metadata dictionary)\nd_data = join(data_path, 'region//MAP//data//Resolve.csv')\nd_supp = join(data_path, 'region//MAP//data//Resolve_data_md_without_variables.json')\n\n# Attempt to add the raw AEM data from CSV-format\n# This will trigger an error message when no variable metadata is found, however the error will\n# output a template json file with this dataset's variable names, to then be filled in by the user\nsurvey.add_tabular(type='csv', data_filename=d_data, metadata_file=d_supp)"
      ]
    }
  ],
  "metadata": {
    "kernelspec": {
      "display_name": "Python 3",
      "language": "python",
      "name": "python3"
    },
    "language_info": {
      "codemirror_mode": {
        "name": "ipython",
        "version": 3
      },
      "file_extension": ".py",
      "mimetype": "text/x-python",
      "name": "python",
      "nbconvert_exporter": "python",
      "pygments_lexer": "ipython3",
      "version": "3.10.8"
    }
  },
  "nbformat": 4,
  "nbformat_minor": 0
}