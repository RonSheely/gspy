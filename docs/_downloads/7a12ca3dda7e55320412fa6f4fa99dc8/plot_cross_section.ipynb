{
  "cells": [
    {
      "cell_type": "markdown",
      "metadata": {},
      "source": [
        "\n# Plotting Cross Sections\n"
      ]
    },
    {
      "cell_type": "code",
      "execution_count": null,
      "metadata": {
        "collapsed": false
      },
      "outputs": [],
      "source": [
        "import numpy as np\nimport matplotlib.pyplot as plt\nfrom os.path import join\nimport gspy\nfrom gspy import Survey\nfrom pprint import pprint"
      ]
    },
    {
      "cell_type": "markdown",
      "metadata": {},
      "source": [
        "First Create the Survey & Data Objects\n\n"
      ]
    },
    {
      "cell_type": "code",
      "execution_count": null,
      "metadata": {
        "collapsed": false
      },
      "outputs": [],
      "source": [
        "# Initialize the Survey\ndata_path = '..//..//..//..//example_material//example_2/data'\n\nsurvey = gspy.open_datatree(join(data_path, \"Tempest.nc\"))['survey']\n\nplt.figure()\nsurvey['models/inverted_models'].gs.plot_cross_section(line_number=212201,\n                                                                    variable='conductivity',\n                                                                    hang_from=None,\n                                                                    axis='distance',\n                                                                    equalize=True,\n                                                                    log=10,\n                                                                    cmap='jet',\n                                                                    ylim=[-200, 100.0])\n\nplt.figure()\nsurvey['models/inverted_models'].gs.plot_cross_section(line_number=212201, variable='conductivity', hang_from='elevation', axis='distance', equalize=True, log=10, cmap='jet', ylim=[-200, 100.0])\nplt.show()"
      ]
    }
  ],
  "metadata": {
    "kernelspec": {
      "display_name": "Python 3",
      "language": "python",
      "name": "python3"
    },
    "language_info": {
      "codemirror_mode": {
        "name": "ipython",
        "version": 3
      },
      "file_extension": ".py",
      "mimetype": "text/x-python",
      "name": "python",
      "nbconvert_exporter": "python",
      "pygments_lexer": "ipython3",
      "version": "3.12.6"
    }
  },
  "nbformat": 4,
  "nbformat_minor": 0
}