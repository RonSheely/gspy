{
  "cells": [
    {
      "cell_type": "markdown",
      "metadata": {},
      "source": [
        "\n# Coordinate Reference Systems\n\nEvery Survey must have a coordinate reference system (CRS) defined and all datasets within the Survey adhere to the same CRS.\n\nThis example explores the CRS variable and shows how it is linked to data variables.\n\n\nDataset Reference:\nMinsley, B.J, Bloss, B.R., Hart, D.J., Fitzpatrick, W., Muldoon, M.A., Stewart, E.K., Hunt, R.J., James, S.R., Foks, N.L., and Komiskey, M.J., 2022, Airborne electromagnetic and magnetic survey data, northeast Wisconsin (ver. 1.1, June 2022): U.S. Geological Survey data release, https://doi.org/10.5066/P93SY9LI.\n"
      ]
    },
    {
      "cell_type": "code",
      "execution_count": null,
      "metadata": {
        "collapsed": false
      },
      "outputs": [],
      "source": [
        "import matplotlib.pyplot as plt\nfrom os.path import join\nimport gspy\nfrom gspy import Survey\nfrom pprint import pprint"
      ]
    },
    {
      "cell_type": "code",
      "execution_count": null,
      "metadata": {
        "collapsed": false
      },
      "outputs": [],
      "source": [
        "survey = gspy.open_datatree(\"../../../../example_material/example_1/model/WISkyTEM.nc\")['survey']"
      ]
    },
    {
      "cell_type": "markdown",
      "metadata": {},
      "source": [
        "The CRS variable is called ``spatial_ref`` and gets initialized in the Survey.\nThe ``spatial_ref`` is a dataless coordinate variable, meaning there are no data values,\nall information is contained within attributes.\n\n"
      ]
    },
    {
      "cell_type": "code",
      "execution_count": null,
      "metadata": {
        "collapsed": false
      },
      "outputs": [],
      "source": [
        "print(survey.spatial_ref)"
      ]
    },
    {
      "cell_type": "markdown",
      "metadata": {},
      "source": [
        "The Survey also has a spatial_ref property which returns the ``spatial_ref`` variable\n\n"
      ]
    },
    {
      "cell_type": "markdown",
      "metadata": {},
      "source": [
        "## Grid Mapping\n\n"
      ]
    },
    {
      "cell_type": "markdown",
      "metadata": {},
      "source": [
        "Following the [CF conventions on Grid Mappings](http://cfconventions.org/Data/cf-conventions/cf-conventions-1.10/cf-conventions.html#appendix-grid-mappings),\nthe ``spatial_ref`` variable should contain key information defining the coordinate\nreference system. The attribute ``grid_mapping_name`` is required. Other key\nattributes include ``wkid`` and ``crs_wkt``.\n\n"
      ]
    },
    {
      "cell_type": "code",
      "execution_count": null,
      "metadata": {
        "collapsed": false
      },
      "outputs": [],
      "source": [
        "print('grid_mapping_name: '+survey.spatial_ref.attrs['grid_mapping_name'])\nprint('wkid: '+survey.spatial_ref.attrs['wkid'])\nprint('crs_wkt: '+survey.spatial_ref.attrs['crs_wkt'])"
      ]
    },
    {
      "cell_type": "markdown",
      "metadata": {},
      "source": [
        "Then, each data variable should have an attribute ``grid_mapping`` that references\nthe ``spatial_ref`` coordinate variable\n\n"
      ]
    },
    {
      "cell_type": "code",
      "execution_count": null,
      "metadata": {
        "collapsed": false
      },
      "outputs": [],
      "source": [
        "pprint(survey['data']['raw_data']['dem'].attrs)"
      ]
    },
    {
      "cell_type": "markdown",
      "metadata": {},
      "source": [
        "## Making a new Spatial Ref\n\n"
      ]
    },
    {
      "cell_type": "markdown",
      "metadata": {},
      "source": [
        "If you need to make a new ``spatial_ref`` variable, this can\nbe done with GSPy's Spatial_ref class\n\n"
      ]
    },
    {
      "cell_type": "code",
      "execution_count": null,
      "metadata": {
        "collapsed": false
      },
      "outputs": [],
      "source": [
        "from gspy.gs_dataarray.Spatial_ref import Spatial_ref"
      ]
    },
    {
      "cell_type": "markdown",
      "metadata": {},
      "source": [
        "The Spatial_ref class takes a dictionary of values and looks for a\n``wkid``, ``crs_wkt``, or a ``proj_string`` in that order. Note, a ``wkid``\nshould have an ``authority`` key passed with it either as a separate ``authority``\nfield, or as a colon separated string, e.g., 'EPSG:4326'. If none is provided\nEPSG will be used by default.\n\n"
      ]
    },
    {
      "cell_type": "code",
      "execution_count": null,
      "metadata": {
        "collapsed": false
      },
      "outputs": [],
      "source": [
        "new_crs = Spatial_ref.from_dict({'wkid': 4326, 'authority': 'EPSG'})\n\npprint(new_crs)"
      ]
    },
    {
      "cell_type": "markdown",
      "metadata": {},
      "source": [
        "Note: If you are resetting the CRS variable in a Survey, be sure that all data\ngroups are also updated to match and all coordinate variables (particularly\n``x``, ``y``, and ``z``) need to be updated. In other words, if you change from a\nprojected coordinate system with easting and northing coordinates to a geographic\ncoordinate system, then the ``x`` and ``y`` coordinate variables need to be\nchanged to longitude and latitude.\n"
      ]
    }
  ],
  "metadata": {
    "kernelspec": {
      "display_name": "Python 3",
      "language": "python",
      "name": "python3"
    },
    "language_info": {
      "codemirror_mode": {
        "name": "ipython",
        "version": 3
      },
      "file_extension": ".py",
      "mimetype": "text/x-python",
      "name": "python",
      "nbconvert_exporter": "python",
      "pygments_lexer": "ipython3",
      "version": "3.12.6"
    }
  },
  "nbformat": 4,
  "nbformat_minor": 0
}