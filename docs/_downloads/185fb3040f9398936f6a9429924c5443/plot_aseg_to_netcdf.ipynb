{
  "cells": [
    {
      "cell_type": "code",
      "execution_count": null,
      "metadata": {
        "collapsed": false
      },
      "outputs": [],
      "source": [
        "%matplotlib inline"
      ]
    },
    {
      "cell_type": "markdown",
      "metadata": {},
      "source": [
        "\n# ASEG to NetCDF conversion\nDataset Reference:\nMinsley, B.J., James, S.R., Bedrosian, P.A., Pace, M.D., Hoogenboom, B.E., and Burton, B.L., 2021, Airborne electromagnetic, magnetic, and radiometric survey of the Mississippi Alluvial Plain, November 2019 - March 2020: U.S. Geological Survey data release, https://doi.org/10.5066/P9E44CTQ.\n"
      ]
    },
    {
      "cell_type": "code",
      "execution_count": null,
      "metadata": {
        "collapsed": false
      },
      "outputs": [],
      "source": [
        "import matplotlib.pyplot as plt\nfrom os.path import join\nfrom gspy import Survey"
      ]
    },
    {
      "cell_type": "markdown",
      "metadata": {},
      "source": [
        "## Convert the ASEG data to netcdf\n\n"
      ]
    },
    {
      "cell_type": "code",
      "execution_count": null,
      "metadata": {
        "collapsed": false
      },
      "outputs": [],
      "source": [
        "# Path to example files\ndata_path = '..//supplemental//region//MAP'\n\n# Survey Metadata file\nsupplemental = join(data_path, \"data//Tempest_survey_md.json\")\n\n# Establish survey instance\nsurvey = Survey(supplemental)\n\n# Define input ASEG-format data file and associated variable mapping file\nd_data = join(data_path, 'data//Tempest.dat')\nd_supp = join(data_path, 'data//Tempest_data_md.json')\n\n# Read data and format as Tabular class object\nsurvey.add_tabular(type='aseg', data_filename=d_data, metadata_file=d_supp)\n\n# Define input TIF-format data file and associated variable mapping file\nd_grid_supp = join(data_path, 'data//Tempest_raster_md.json')\n# Read data and format as Griddata class object\nsurvey.add_raster(metadata_file = d_grid_supp)\n\n# Define input ASEG-format model file and associated variable mapping file\nm_data = join(data_path, 'model//Tempest_model.dat')\nm_supp = join(data_path, 'model//Tempest_model_md.json')\n\n# Read model data and format as Tabular class object\nsurvey.add_tabular(type='aseg', data_filename=m_data, metadata_file=m_supp)\n\n# Save NetCDF file\nd_out = join(data_path, 'data//Tempest.nc')\nsurvey.write_netcdf(d_out)"
      ]
    },
    {
      "cell_type": "markdown",
      "metadata": {},
      "source": [
        "Read in the netcdf files\n\n"
      ]
    },
    {
      "cell_type": "code",
      "execution_count": null,
      "metadata": {
        "collapsed": false
      },
      "outputs": [],
      "source": [
        "new_survey = Survey().read_netcdf(d_out)\n\nprint(new_survey.raster.magnetic_tmi)\n\n# Once the survey is read in, we can access variables like a standard xarray dataset."
      ]
    },
    {
      "cell_type": "markdown",
      "metadata": {},
      "source": [
        "Plotting\n\n"
      ]
    },
    {
      "cell_type": "code",
      "execution_count": null,
      "metadata": {
        "collapsed": false
      },
      "outputs": [],
      "source": [
        "plt.figure()\nnew_survey.tabular[0].gs_tabular.scatter('X_PrimaryField', cmap='jet')\n\n# plt.figure()\n# new_survey.raster.gs_raster.pcolor('magnetic_tmi', vmin=-1000, vmax=1000, cmap='jet')\n\n# plt.figure()\n# new_survey.tabular[1].gs_tabular.scatter('PhiD')\n\n# print(new_survey.tabular[0])\n# print(new_survey.tabular[0]['x'].attrs)\n# print(new_survey.tabular[0]['EMX_HPRG'])\n\nplt.show()"
      ]
    }
  ],
  "metadata": {
    "kernelspec": {
      "display_name": "Python 3",
      "language": "python",
      "name": "python3"
    },
    "language_info": {
      "codemirror_mode": {
        "name": "ipython",
        "version": 3
      },
      "file_extension": ".py",
      "mimetype": "text/x-python",
      "name": "python",
      "nbconvert_exporter": "python",
      "pygments_lexer": "ipython3",
      "version": "3.10.8"
    }
  },
  "nbformat": 4,
  "nbformat_minor": 0
}