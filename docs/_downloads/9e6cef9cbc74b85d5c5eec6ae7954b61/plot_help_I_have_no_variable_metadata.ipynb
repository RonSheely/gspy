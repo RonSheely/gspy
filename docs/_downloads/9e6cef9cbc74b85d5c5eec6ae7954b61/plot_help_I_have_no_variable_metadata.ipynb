{
  "cells": [
    {
      "cell_type": "code",
      "execution_count": null,
      "metadata": {
        "collapsed": false
      },
      "outputs": [],
      "source": [
        "%matplotlib inline"
      ]
    },
    {
      "cell_type": "markdown",
      "metadata": {},
      "source": [
        "\n# Converting CSV to GSpy Raster formats without metadata\n"
      ]
    },
    {
      "cell_type": "code",
      "execution_count": null,
      "metadata": {
        "collapsed": false
      },
      "outputs": [],
      "source": [
        "import matplotlib.pyplot as plt\nfrom os.path import join\nfrom gspy import Survey\n\n# Path to example files\ndata_path = '..//..//supplemental'\n\n# Define ..//supplemental information file\n..//supplemental = join(data_path, \"region//MAP//data//Resolve_survey_md.json\")\n\nsurvey = Survey(..//supplemental)\n\nd_data = join(data_path, 'region//MAP//data//Resolve.csv')\nd_supp = join(data_path, 'region//MAP//data//Resolve_data_md_without_variables.json')\n\nsurvey.add_tabular(type='csv', data_filename=d_data, metadata_file=d_supp)"
      ]
    }
  ],
  "metadata": {
    "kernelspec": {
      "display_name": "Python 3",
      "language": "python",
      "name": "python3"
    },
    "language_info": {
      "codemirror_mode": {
        "name": "ipython",
        "version": 3
      },
      "file_extension": ".py",
      "mimetype": "text/x-python",
      "name": "python",
      "nbconvert_exporter": "python",
      "pygments_lexer": "ipython3",
      "version": "3.10.8"
    }
  },
  "nbformat": 4,
  "nbformat_minor": 0
}