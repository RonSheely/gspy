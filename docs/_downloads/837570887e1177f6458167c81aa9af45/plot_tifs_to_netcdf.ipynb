{
  "cells": [
    {
      "cell_type": "markdown",
      "metadata": {},
      "source": [
        "\n# GeoTIFFs to NetCDF\n\nIn this example, we demonstrates the workflow for creating a GS file from the GeoTIFF (.tif/.tiff) file format. This includes adding individual TIF files as single 2-D variables, as well as how to create a 3-D variable by stacking multiple TIF files along a specified dimension.\n\nAdditionally, this example shows how to handle Raster data that have differing x-y grids. Specifically, this example creates the following Raster datasets:\n\n1. Raster Dataset #1\n    1a. 2-D magnetic grid, original x-y discretization (600 m cell size)\n2. Raster Dataset #2\n    2a. 2-D magnetic grid, aligned to match the x-y dimensions of the resistivity layers (1000 m cell size)\n\n    2b. 3-D resistivity grid\n\nDataset References:\n\nMinsley, B.J., James, S.R., Bedrosian, P.A., Pace, M.D., Hoogenboom, B.E., and Burton, B.L., 2021, Airborne electromagnetic, magnetic, and radiometric survey of the Mississippi Alluvial Plain, November 2019 - March 2020: U.S. Geological Survey data release, https://doi.org/10.5066/P9E44CTQ.\n\nJames, S.R., and Minsley, B.J., 2021, Combined results and derivative products of hydrogeologic structure and properties from airborne electromagnetic surveys in the Mississippi Alluvial Plain: U.S. Geological Survey data release, https://doi.org/10.5066/P9382RCI.\n"
      ]
    },
    {
      "cell_type": "code",
      "execution_count": null,
      "metadata": {
        "collapsed": false
      },
      "outputs": [],
      "source": [
        "import matplotlib.pyplot as plt\nfrom os.path import join\nfrom gspy import Survey\nfrom pprint import pprint"
      ]
    },
    {
      "cell_type": "markdown",
      "metadata": {},
      "source": [
        "## Convert data from GeoTIFF to NetCDF\n\n"
      ]
    },
    {
      "cell_type": "markdown",
      "metadata": {},
      "source": [
        "Initialize the Survey\n\n"
      ]
    },
    {
      "cell_type": "code",
      "execution_count": null,
      "metadata": {
        "collapsed": false
      },
      "outputs": [],
      "source": [
        "# Path to example files\ndata_path = \"..//..//..//..//example_material//example_2\"\n\n# Survey metadata file\nmetadata = join(data_path, \"data//Tempest_survey_md.yml\")\n\n# Establish the Survey\nsurvey = Survey(metadata)"
      ]
    },
    {
      "cell_type": "markdown",
      "metadata": {},
      "source": [
        "Create the First Raster Dataset\n\n"
      ]
    },
    {
      "cell_type": "code",
      "execution_count": null,
      "metadata": {
        "collapsed": false
      },
      "outputs": [],
      "source": [
        "# Import 2-D magnetic data, discretized on 600 m x 600 m grid\n# Define input metadata file (which contains the TIF filename linked with desired variable name)\nd_supp1 = join(data_path, 'data//Tempest_raster_md.yml')\n\n# Read data and format as Raster class object\nsurvey.add_data(key=\"map\", metadata_file=d_supp1)"
      ]
    },
    {
      "cell_type": "markdown",
      "metadata": {},
      "source": [
        "Create the Second Raster Dataset\n\n"
      ]
    },
    {
      "cell_type": "code",
      "execution_count": null,
      "metadata": {
        "collapsed": false
      },
      "outputs": [],
      "source": [
        "# Import both 3-D resistivity and 2-D magnetic data, aligned onto a common 1000 m x 1000 m grid\n# Define input metadata file (which contains the TIF filenames linked with desired variable names)\nd_supp2 = join(data_path, 'data//Tempest_rasters_md.yml')\n\n# Read data and format as Raster class object\nsurvey.add_data(key=\"maps\", metadata_file=d_supp2)"
      ]
    },
    {
      "cell_type": "markdown",
      "metadata": {},
      "source": [
        "Save to NetCDF file\n\n"
      ]
    },
    {
      "cell_type": "code",
      "execution_count": null,
      "metadata": {
        "collapsed": false
      },
      "outputs": [],
      "source": [
        "d_out = join(data_path, 'data//tifs.nc')\nsurvey.write_netcdf(d_out)"
      ]
    },
    {
      "cell_type": "markdown",
      "metadata": {},
      "source": [
        "Reading back in the GS NetCDF file\n\n"
      ]
    },
    {
      "cell_type": "code",
      "execution_count": null,
      "metadata": {
        "collapsed": false
      },
      "outputs": [],
      "source": [
        "new_survey = Survey.open_netcdf(d_out)"
      ]
    },
    {
      "cell_type": "markdown",
      "metadata": {},
      "source": [
        "Plotting\n\n"
      ]
    },
    {
      "cell_type": "code",
      "execution_count": null,
      "metadata": {
        "collapsed": false
      },
      "outputs": [],
      "source": [
        "# Make a map-view plot of a specific data variable, using Xarray's plotter\n# In this case, we slice the 3-D resistivity variable along the depth dimension\nnew_survey[\"maps\"]['resistivity'].plot(col='z', vmax=3, cmap='jet', robust=True)\n\n# Make a map-view plot comparing the different x-y discretization of the two magnetic variables, using Xarray's plotter\nplt.figure()\nax=plt.gca()\nnew_survey[\"maps\"]['magnetic_tmi'].plot(ax=ax, cmap='jet', robust=True)\nnew_survey[\"map\"]['magnetic_tmi'].plot(ax=ax, cmap='Greys', cbar_kwargs={'label': ''}, robust=True)\nplt.ylim([1.20556e6, 1.21476e6])\nplt.xlim([3.5201e5, 3.6396e5])\nplt.show()"
      ]
    }
  ],
  "metadata": {
    "kernelspec": {
      "display_name": "Python 3",
      "language": "python",
      "name": "python3"
    },
    "language_info": {
      "codemirror_mode": {
        "name": "ipython",
        "version": 3
      },
      "file_extension": ".py",
      "mimetype": "text/x-python",
      "name": "python",
      "nbconvert_exporter": "python",
      "pygments_lexer": "ipython3",
      "version": "3.12.6"
    }
  },
  "nbformat": 4,
  "nbformat_minor": 0
}