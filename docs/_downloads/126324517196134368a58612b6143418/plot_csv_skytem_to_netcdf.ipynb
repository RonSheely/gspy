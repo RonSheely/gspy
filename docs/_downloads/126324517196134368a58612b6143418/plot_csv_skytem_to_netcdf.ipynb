{
  "cells": [
    {
      "cell_type": "code",
      "execution_count": null,
      "metadata": {
        "collapsed": false
      },
      "outputs": [],
      "source": [
        "%matplotlib inline"
      ]
    },
    {
      "cell_type": "markdown",
      "metadata": {},
      "source": [
        "\n# Multi-dataset Survey\n\nThis example demonstrates the typical workflow for creating a GS file for an AEM survey in its entirety, i.e., the NetCDF file contains all related datasets together, e.g., raw data, processed data, inverted models, and derivative products. Specifically, this survey contains:\n\n1. Minimally processed (raw) AEM data and raw/processed magnetic data provided by SkyTEM\n2. Fully processed AEM data used as input to inversion\n3. Laterally constrained inverted resistivity models\n4. Point-data estimates of bedrock depth derived from the AEM models\n5. Interpolated magnetic and bedrock depth grids\n\nNote:\nTo make the size of this example more managable, some of the input datasets have been downsampled relative to the source files in the data release referenced below.\n\nDataset Reference:\nMinsley, B.J, Bloss, B.R., Hart, D.J., Fitzpatrick, W., Muldoon, M.A., Stewart, E.K., Hunt, R.J., James, S.R., Foks, N.L., and Komiskey, M.J., 2022, Airborne electromagnetic and magnetic survey data, northeast Wisconsin (ver. 1.1, June 2022): U.S. Geological Survey data release, https://doi.org/10.5066/P93SY9LI.\n"
      ]
    },
    {
      "cell_type": "code",
      "execution_count": null,
      "metadata": {
        "collapsed": false
      },
      "outputs": [],
      "source": [
        "import matplotlib.pyplot as plt\nfrom os.path import join\nfrom gspy import Survey"
      ]
    },
    {
      "cell_type": "markdown",
      "metadata": {},
      "source": [
        "## Convert the CSV data to NetCDF\n\n"
      ]
    },
    {
      "cell_type": "markdown",
      "metadata": {},
      "source": [
        "Initialize the Survey\n\n"
      ]
    },
    {
      "cell_type": "code",
      "execution_count": null,
      "metadata": {
        "collapsed": false
      },
      "outputs": [],
      "source": [
        "# Path to example files\ndata_path = '..//..//supplemental//region//WI'\n\n# Survey metadata file\nmetadata = join(data_path, \"data//WI_SkyTEM_survey_md.json\")\n\n# Establish the Survey\nsurvey = Survey(metadata)"
      ]
    },
    {
      "cell_type": "markdown",
      "metadata": {},
      "source": [
        "1 - Raw Data - \nImport raw AEM data from CSV-format.\nDefine input data file and associated metadata file\n\n"
      ]
    },
    {
      "cell_type": "code",
      "execution_count": null,
      "metadata": {
        "collapsed": false
      },
      "outputs": [],
      "source": [
        "d_data1 = join(data_path, 'data//WI_SkyTEM_2021_ContractorData.csv')\nd_supp1 = join(data_path, 'data//WI_SkyTEM_raw_data_md.json')\n\n# Add the raw AEM data as a tabular dataset\nsurvey.add_tabular(type='csv', data_filename=d_data1, metadata_file=d_supp1)"
      ]
    },
    {
      "cell_type": "markdown",
      "metadata": {},
      "source": [
        "2 - Processed Data - \nImport processed AEM data from CSV-format.\nDefine input data file and associated metadata file\n\n"
      ]
    },
    {
      "cell_type": "code",
      "execution_count": null,
      "metadata": {
        "collapsed": false
      },
      "outputs": [],
      "source": [
        "d_data2 = join(data_path, 'data//WI_SkyTEM_2021_ProcessedData.csv')\nd_supp2 = join(data_path, 'data//WI_SkyTEM_processed_data_md.json')\n\n# Add the processed AEM data as a tabular dataset\nsurvey.add_tabular(type='csv', data_filename=d_data2, metadata_file=d_supp2)"
      ]
    },
    {
      "cell_type": "markdown",
      "metadata": {},
      "source": [
        "3 - Inverted Models - \nImport inverted AEM models from CSV-format.\nDefine input data file and associated metadata file\n\n"
      ]
    },
    {
      "cell_type": "code",
      "execution_count": null,
      "metadata": {
        "collapsed": false
      },
      "outputs": [],
      "source": [
        "m_data3 = join(data_path, 'model//WI_SkyTEM_2021_InvertedModels.csv')\nm_supp3 = join(data_path, 'model//WI_SkyTEM_inverted_models_md.json')\n\n# Add the inverted AEM models as a tabular dataset\nsurvey.add_tabular(type='csv', data_filename=m_data3, metadata_file=m_supp3)"
      ]
    },
    {
      "cell_type": "markdown",
      "metadata": {},
      "source": [
        "4 - Bedrock Picks - \nImport AEM-based estimated of depth to bedrock from CSV-format.\nDefine input data file and associated metadata file\n\n"
      ]
    },
    {
      "cell_type": "code",
      "execution_count": null,
      "metadata": {
        "collapsed": false
      },
      "outputs": [],
      "source": [
        "d_data4 = join(data_path, 'data//topDolomite_Blocky_LidarDEM.csv')\nd_supp4 = join(data_path, 'data//WI_SkyTEM_bedrock_picks_md.json')\n\n# Add the AEM-based estimated of depth to bedrock as a tabular dataset\nsurvey.add_tabular(type='csv', data_filename=d_data4, metadata_file=d_supp4)"
      ]
    },
    {
      "cell_type": "markdown",
      "metadata": {},
      "source": [
        "5 - Derivative Maps - \nImport interpolated bedrock and magnetic maps from TIF-format.\nDefine input metadata file (which contains the TIF filenames linked to variable names)\n\n"
      ]
    },
    {
      "cell_type": "code",
      "execution_count": null,
      "metadata": {
        "collapsed": false
      },
      "outputs": [],
      "source": [
        "m_supp5 = join(data_path, 'data//WI_SkyTEM_mag_bedrock_grids_md.json')\n\n# Add the interpolated maps as a raster dataset\nsurvey.add_raster(metadata_file=m_supp5)"
      ]
    },
    {
      "cell_type": "markdown",
      "metadata": {},
      "source": [
        "Save to NetCDF file\n\n"
      ]
    },
    {
      "cell_type": "code",
      "execution_count": null,
      "metadata": {
        "collapsed": false
      },
      "outputs": [],
      "source": [
        "d_out = join(data_path, 'model//WISkyTEM.nc')\nsurvey.write_netcdf(d_out)\n\n# print a summary of the survey contents\nsurvey.contents()"
      ]
    },
    {
      "cell_type": "markdown",
      "metadata": {},
      "source": [
        "Reading back in\n\n"
      ]
    },
    {
      "cell_type": "code",
      "execution_count": null,
      "metadata": {
        "collapsed": false
      },
      "outputs": [],
      "source": [
        "new_survey = Survey().read_netcdf(d_out)"
      ]
    },
    {
      "cell_type": "markdown",
      "metadata": {},
      "source": [
        "Plotting\n\n"
      ]
    },
    {
      "cell_type": "code",
      "execution_count": null,
      "metadata": {
        "collapsed": false
      },
      "outputs": [],
      "source": [
        "# Make a figure of one of the raster data variables, using Xarray's plotter\nplt.figure()\nnew_survey.raster['magnetic_tmi'].plot(cmap='jet')\nplt.tight_layout()\nplt.show()"
      ]
    }
  ],
  "metadata": {
    "kernelspec": {
      "display_name": "Python 3",
      "language": "python",
      "name": "python3"
    },
    "language_info": {
      "codemirror_mode": {
        "name": "ipython",
        "version": 3
      },
      "file_extension": ".py",
      "mimetype": "text/x-python",
      "name": "python",
      "nbconvert_exporter": "python",
      "pygments_lexer": "ipython3",
      "version": "3.10.8"
    }
  },
  "nbformat": 4,
  "nbformat_minor": 0
}